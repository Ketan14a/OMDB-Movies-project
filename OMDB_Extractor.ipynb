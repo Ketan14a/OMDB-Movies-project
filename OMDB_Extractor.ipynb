{
 "cells": [
  {
   "cell_type": "code",
   "execution_count": 33,
   "metadata": {},
   "outputs": [],
   "source": [
    "import omdb\n",
    "from omdb import OMDBClient\n",
    "import pandas as pd"
   ]
  },
  {
   "cell_type": "code",
   "execution_count": 27,
   "metadata": {},
   "outputs": [],
   "source": [
    "my_client = OMDBClient(apikey='a6d9196b')\n",
    "OMDB_Info_List = []"
   ]
  },
  {
   "cell_type": "code",
   "execution_count": 28,
   "metadata": {},
   "outputs": [],
   "source": [
    "def collect_OMDB_Info(keyword):\n",
    "    data = my_client.search(keyword)\n",
    "    Titles = []\n",
    "    Years = []\n",
    "    IMDB_IDs = []\n",
    "    Types = []\n",
    "    for i in range(len(data)):\n",
    "        Titles.append(data[i]['title'])\n",
    "        Years.append(data[i]['year'])\n",
    "        IMDB_IDs.append(data[i]['imdb_id'])\n",
    "        Types.append(data[i]['type'])\n",
    "        \n",
    "    for i in range(len(data)):\n",
    "        temp = str(Years[i])\n",
    "        temp = temp.replace('–','')\n",
    "        Years[i] = int(temp) \n",
    "    \n",
    "    for i in range(len(data)):\n",
    "        temp = []\n",
    "        temp.append(Titles[i])\n",
    "        temp.append(Years[i])\n",
    "        temp.append(IMDB_IDs[i])\n",
    "        temp.append(Types[i])\n",
    "        OMDB_Info_List.append(temp)\n",
    "        \n",
    "    \n",
    "    \n",
    "    \n",
    "\n",
    "\n",
    "\n",
    "\n",
    "\n",
    "\n",
    "\n"
   ]
  },
  {
   "cell_type": "code",
   "execution_count": 31,
   "metadata": {},
   "outputs": [],
   "source": [
    "Keywords = [\"Canada\",\"University\",\"Moncton\",\"Halifax\",\"Toronto\",\"Vancouver\",\"Alberta\",\"Niagara\"]\n",
    "\n",
    "for key in Keywords:\n",
    "    collect_OMDB_Info(key)"
   ]
  },
  {
   "cell_type": "code",
   "execution_count": 35,
   "metadata": {},
   "outputs": [],
   "source": [
    "cols = ['Title','Year','IMDB_ID','Type']\n",
    "OMDB_df = pd.DataFrame(OMDB_Info_List,columns=cols)\n",
    "OMDB_df.to_json(\"Extracted_OMDB_Data.json\",orient=\"records\",lines=True)"
   ]
  },
  {
   "cell_type": "code",
   "execution_count": 24,
   "metadata": {},
   "outputs": [],
   "source": []
  },
  {
   "cell_type": "code",
   "execution_count": null,
   "metadata": {},
   "outputs": [],
   "source": []
  },
  {
   "cell_type": "code",
   "execution_count": null,
   "metadata": {},
   "outputs": [],
   "source": []
  }
 ],
 "metadata": {
  "kernelspec": {
   "display_name": "Python 3",
   "language": "python",
   "name": "python3"
  },
  "language_info": {
   "codemirror_mode": {
    "name": "ipython",
    "version": 3
   },
   "file_extension": ".py",
   "mimetype": "text/x-python",
   "name": "python",
   "nbconvert_exporter": "python",
   "pygments_lexer": "ipython3",
   "version": "3.6.9"
  }
 },
 "nbformat": 4,
 "nbformat_minor": 2
}
